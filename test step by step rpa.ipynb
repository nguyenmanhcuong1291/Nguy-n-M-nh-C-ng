{
 "cells": [
  {
   "cell_type": "code",
   "execution_count": 4,
   "id": "c72b0ce2-ed76-464b-9286-1e6cb8291786",
   "metadata": {},
   "outputs": [],
   "source": [
    "import os\n",
    "import time\n",
    "import undetected_chromedriver as uc\n",
    "from selenium.webdriver.common.by import By\n",
    "from selenium.webdriver.support.ui import WebDriverWait\n",
    "from selenium.webdriver.support import expected_conditions as EC\n",
    "\n",
    "# Tên thư mục chứa video\n",
    "VIDEO_FOLDER = 'C:\\\\Users\\\\nguyenmanhcuong1991\\\\Desktop\\\\video\\\\'\n",
    "CHROME_PROFILE_PATH = 'C:\\\\Users\\\\nguyenmanhcuong1991\\\\AppData\\\\Local\\\\Google\\\\Chrome\\\\User Data'\n",
    "PROFILE_NAME = 'Profile 1'  # Tên profile cần sử dụng\n",
    "\n",
    "options = uc.ChromeOptions()\n",
    "# options.add_argument(f\"user-data-dir={profile_path}\")\n",
    "# options.add_argument(f\"profile-directory={profile_name}\")\n",
    "driver = uc.Chrome(options=options)\n",
    "\n",
    "\n",
    "driver.get(\"https://accounts.google.com/signin\")\n",
    "\n",
    "# Điền địa chỉ email và tiếp tục\n",
    "email_input = WebDriverWait(driver, 100).until(\n",
    "    EC.presence_of_element_located((By.XPATH, '//input[@type=\"email\"]'))\n",
    ")\n",
    "email_input.send_keys(\"nguyenmanhcuong1291@gmail.com\")\n",
    "next_button = driver.find_element(By.XPATH, '//*[@id=\"identifierNext\"]')\n",
    "next_button.click()\n",
    "\n",
    "# Đợi và điền mật khẩu\n",
    "password_input = WebDriverWait(driver, 10000).until(\n",
    "    EC.visibility_of_element_located((By.XPATH, '//input[@type=\"password\"]'))\n",
    ")\n",
    "password_input.send_keys(\"kiengmotPIDF4231!\" )\n",
    "next_button = driver.find_element(By.XPATH, '//*[@id=\"passwordNext\"]')\n",
    "next_button.click()"
   ]
  },
  {
   "cell_type": "code",
   "execution_count": 7,
   "id": "d7fada8a-e587-42e4-83ee-cf4f1d9d4a97",
   "metadata": {},
   "outputs": [],
   "source": [
    "driver.get(\"https://studio.youtube.com/\")\n",
    "\n",
    "# # Nhấn vào nút upload video\n",
    "# upload_button = WebDriverWait(driver, 10).until(\n",
    "#     EC.element_to_be_clickable((By.XPATH, '//*[@aria-label=\"Create\"]'))\n",
    "# )\n",
    "# upload_button.click()\n",
    "\n",
    "# Chọn tùy chọn upload video\n",
    "upload_video_button = WebDriverWait(driver, 10).until(\n",
    "    EC.element_to_be_clickable((By.XPATH, '//*[@id=\"upload-button\"]'))\n",
    ")\n",
    "upload_video_button.click()\n",
    "\n"
   ]
  },
  {
   "cell_type": "code",
   "execution_count": 10,
   "id": "9dbd1cc7-0615-46f3-88d6-bd07267ce508",
   "metadata": {},
   "outputs": [],
   "source": [
    "# Upload file video\n",
    "file_input = WebDriverWait(driver, 10).until(\n",
    "    EC.presence_of_element_located((By.XPATH, '//*[@type=\"file\"]'))\n",
    ")\n",
    "file_input.send_keys('C:\\\\Users\\\\nguyenmanhcuong1991\\\\AppData\\\\Local\\\\Google\\\\Chrome\\\\User Data\\\\lop3-video2')\n",
    "\n"
   ]
  },
  {
   "cell_type": "code",
   "execution_count": 16,
   "id": "fe7c249e-2bf1-488d-a7fd-5575f50560b2",
   "metadata": {},
   "outputs": [],
   "source": [
    "# Điền tiêu đề và mô tả\n",
    "title_input = WebDriverWait(driver, 10).until(\n",
    "    EC.presence_of_element_located(By.XPATH, '//*[@id=\"textbox\"]')\n",
    ")\n",
    "title_input.send_keys(\"test\")\n",
    "\n",
    "description_input = driver.find_element(By.XPATH, '//*[@aria-label=\"Giới thiệu về video của bạn cho người xem (nhập ký tự @ để đề cập tên một kênh)\"]')\n",
    "description_input.send_keys(\"test des\")\n",
    "\n"
   ]
  },
  {
   "cell_type": "code",
   "execution_count": 21,
   "id": "b0900680-93a8-424e-a50f-9b5dc1788889",
   "metadata": {},
   "outputs": [],
   "source": [
    "# chọn video not for kids\n",
    "kids_section = driver.find_element(By.XPATH, '//*[@name=\"VIDEO_MADE_FOR_KIDS_NOT_MFK\"]')\n",
    "kids_section_label = kids_section.find_element(By.ID,\"radioLabel\") \n",
    "kids_section_label.click()\n",
    "\n"
   ]
  },
  {
   "cell_type": "code",
   "execution_count": 24,
   "id": "5e0a45bd-3acc-4322-b429-f430cbf2fce1",
   "metadata": {},
   "outputs": [],
   "source": [
    "# Nhấn vào nút tiếp tục \n",
    "next_button = driver.find_element(By.XPATH, '//*[@id=\"next-button\"]')\n",
    "next_button.click()"
   ]
  },
  {
   "cell_type": "code",
   "execution_count": 25,
   "id": "c29ab813-ed0b-43cb-9e4a-a46a0efc87a4",
   "metadata": {},
   "outputs": [],
   "source": [
    "# Nhấn vào nút tiếp tục \n",
    "next_button2 = driver.find_element(By.XPATH, '//*[@id=\"next-button\"]')\n",
    "next_button2.click()"
   ]
  },
  {
   "cell_type": "code",
   "execution_count": 26,
   "id": "98a08bd1-2514-4a05-b49c-5369cf807889",
   "metadata": {},
   "outputs": [],
   "source": [
    "# Nhấn vào nút tiếp tục \n",
    "next_button3 = driver.find_element(By.XPATH, '//*[@id=\"next-button\"]')\n",
    "next_button3.click()"
   ]
  },
  {
   "cell_type": "code",
   "execution_count": 29,
   "id": "2ffddb8d-a393-4e19-827e-b05747475b6b",
   "metadata": {},
   "outputs": [],
   "source": [
    "# chọn video công khai\n",
    "kids_section = driver.find_element(By.XPATH, '//*[@name=\"PUBLIC\"]')\n",
    "kids_section_label = kids_section.find_element(By.ID,\"radioLabel\") \n",
    "kids_section_label.click()\n"
   ]
  },
  {
   "cell_type": "code",
   "execution_count": 30,
   "id": "0c006482-dd4a-4fe0-888d-11c8fa18c77e",
   "metadata": {},
   "outputs": [],
   "source": [
    "# Nhấn vào nút công khai video\n",
    "save_button = driver.find_element(By.XPATH, '//*[@id=\"done-button\"]')\n",
    "save_button.click()\n"
   ]
  },
  {
   "cell_type": "code",
   "execution_count": 32,
   "id": "838bdb76-c80b-4bd9-ba51-07819a20163f",
   "metadata": {},
   "outputs": [],
   "source": [
    "# Đợi cho đến khi video được upload hoàn tất và lấy URL\n",
    "video_url = WebDriverWait(driver, 600).until(\n",
    "    EC.presence_of_element_located((By.XPATH, '//*[contains(@href, \"https://youtu.be/\")]'))\n",
    ").get_attribute(\"href\")"
   ]
  },
  {
   "cell_type": "code",
   "execution_count": 33,
   "id": "a4c86bb8-40ec-48ee-bd53-a13acdbd17f0",
   "metadata": {},
   "outputs": [
    {
     "name": "stdout",
     "output_type": "stream",
     "text": [
      "https://youtu.be/rGmTNI5NRCM\n"
     ]
    }
   ],
   "source": [
    "print(video_url)"
   ]
  },
  {
   "cell_type": "code",
   "execution_count": null,
   "id": "6fc3590f-1cce-4aec-a9f6-35ab34396dcf",
   "metadata": {},
   "outputs": [],
   "source": []
  }
 ],
 "metadata": {
  "kernelspec": {
   "display_name": "Python 3 (ipykernel)",
   "language": "python",
   "name": "python3"
  },
  "language_info": {
   "codemirror_mode": {
    "name": "ipython",
    "version": 3
   },
   "file_extension": ".py",
   "mimetype": "text/x-python",
   "name": "python",
   "nbconvert_exporter": "python",
   "pygments_lexer": "ipython3",
   "version": "3.11.7"
  }
 },
 "nbformat": 4,
 "nbformat_minor": 5
}
